{
 "cells": [
  {
   "cell_type": "code",
   "execution_count": 1,
   "metadata": {},
   "outputs": [
    {
     "name": "stderr",
     "output_type": "stream",
     "text": [
      "c:\\Users\\User\\anaconda3\\Lib\\site-packages\\paramiko\\transport.py:219: CryptographyDeprecationWarning: Blowfish has been deprecated\n",
      "  \"class\": algorithms.Blowfish,\n"
     ]
    }
   ],
   "source": [
    "import pandas as pd \n",
    "import os \n",
    "from skimage.transform import resize \n",
    "from skimage.io import imread \n",
    "import numpy as np \n",
    "import matplotlib.pyplot as plt \n",
    "from sklearn import svm \n",
    "from sklearn.model_selection import GridSearchCV \n",
    "from sklearn.model_selection import train_test_split \n",
    "from sklearn.metrics import accuracy_score \n",
    "from sklearn.metrics import classification_report\n"
   ]
  },
  {
   "cell_type": "code",
   "execution_count": 7,
   "metadata": {},
   "outputs": [
    {
     "name": "stdout",
     "output_type": "stream",
     "text": [
      "test1 unzipped\n",
      "train unzipped\n"
     ]
    }
   ],
   "source": [
    "import zipfile\n",
    "from PIL import Image\n",
    "zip_files = ['test1', 'train']\n",
    "\n",
    "for zip_file in zip_files:\n",
    "    with zipfile.ZipFile(\"C:/Users/User/OneDrive/Documents/Prodigy infotech/Task 3/archive (1).zip\".format(zip_file),\"r\") as z:\n",
    "        z.extractall(\".\")\n",
    "        print(\"{} unzipped\".format(zip_file))"
   ]
  },
  {
   "cell_type": "markdown",
   "metadata": {},
   "source": []
  },
  {
   "cell_type": "code",
   "execution_count": null,
   "metadata": {},
   "outputs": [],
   "source": [
    "#dataframe \n",
    "df=pd.DataFrame(flat_data) \n",
    "df['Target']=target \n",
    "df.shape\n"
   ]
  },
  {
   "cell_type": "code",
   "execution_count": null,
   "metadata": {},
   "outputs": [],
   "source": [
    "#input data \n",
    "x=df.iloc[:,:-1] \n",
    "#output data \n",
    "y=df.iloc[:,-1]\n"
   ]
  },
  {
   "cell_type": "code",
   "execution_count": null,
   "metadata": {},
   "outputs": [],
   "source": [
    "# Splitting the data into training and testing sets \n",
    "x_train,x_test,y_train,y_test=train_test_split(x,y,test_size=0.20, \n",
    "\t\t\t\t\t\t\t\t\t\t\trandom_state=77, \n",
    "\t\t\t\t\t\t\t\t\t\t\tstratify=y) \n"
   ]
  },
  {
   "cell_type": "code",
   "execution_count": null,
   "metadata": {},
   "outputs": [],
   "source": [
    "# Defining the parameters grid for GridSearchCV \n",
    "param_grid={'C':[0.1,1,10,100], \n",
    "\t\t\t'gamma':[0.0001,0.001,0.1,1], \n",
    "\t\t\t'kernel':['rbf','poly']} \n",
    "\n",
    "# Creating a support vector classifier \n",
    "svc=svm.SVC(probability=True) \n",
    "\n",
    "# Creating a model using GridSearchCV with the parameters grid \n",
    "model=GridSearchCV(svc,param_grid)\n"
   ]
  },
  {
   "cell_type": "code",
   "execution_count": null,
   "metadata": {},
   "outputs": [],
   "source": [
    "# Training the model using the training data \n",
    "model.fit(x_train,y_train)\n"
   ]
  },
  {
   "cell_type": "code",
   "execution_count": null,
   "metadata": {},
   "outputs": [],
   "source": [
    "# Testing the model using the testing data \n",
    "y_pred = model.predict(x_test) \n",
    "\n",
    "# Calculating the accuracy of the model \n",
    "accuracy = accuracy_score(y_pred, y_test) \n",
    "\n",
    "# Print the accuracy of the model \n",
    "print(f\"The model is {accuracy*100}% accurate\")\n"
   ]
  },
  {
   "cell_type": "code",
   "execution_count": null,
   "metadata": {},
   "outputs": [],
   "source": [
    "print(classification_report(y_test, y_pred, target_names=['cat', 'dog']))\n"
   ]
  },
  {
   "cell_type": "code",
   "execution_count": null,
   "metadata": {},
   "outputs": [],
   "source": [
    "path='dataset/test_set/dogs/dog.4001.jpg'\n",
    "img=imread(path) \n",
    "plt.imshow(img) \n",
    "plt.show() \n",
    "img_resize=resize(img,(150,150,3)) \n",
    "l=[img_resize.flatten()] \n",
    "probability=model.predict_proba(l) \n",
    "for ind,val in enumerate(Categories): \n",
    "\tprint(f'{val} = {probability[0][ind]*100}%') \n",
    "print(\"The predicted image is : \"+Categories[model.predict(l)[0]])\n"
   ]
  }
 ],
 "metadata": {
  "kernelspec": {
   "display_name": "base",
   "language": "python",
   "name": "python3"
  },
  "language_info": {
   "codemirror_mode": {
    "name": "ipython",
    "version": 3
   },
   "file_extension": ".py",
   "mimetype": "text/x-python",
   "name": "python",
   "nbconvert_exporter": "python",
   "pygments_lexer": "ipython3",
   "version": "3.11.4"
  }
 },
 "nbformat": 4,
 "nbformat_minor": 2
}
